{
  "nbformat": 4,
  "nbformat_minor": 0,
  "metadata": {
    "colab": {
      "provenance": [],
      "include_colab_link": true
    },
    "kernelspec": {
      "name": "python3",
      "display_name": "Python 3"
    }
  },
  "cells": [
    {
      "cell_type": "markdown",
      "metadata": {
        "id": "view-in-github",
        "colab_type": "text"
      },
      "source": [
        "<a href=\"https://colab.research.google.com/github/mfernandes10/MetNumUN2023I/blob/main/Quiz1/mfernandes_Quiz1.ipynb\" target=\"_parent\"><img src=\"https://colab.research.google.com/assets/colab-badge.svg\" alt=\"Open In Colab\"/></a>"
      ]
    },
    {
      "cell_type": "markdown",
      "metadata": {
        "id": "4Gb04XWVHDB6"
      },
      "source": [
        "# **Quiz 1 - Python NumPy**\n",
        "---\n",
        "This quiz will help you practice the skills coding in Python and using Numpy.\n",
        "\n",
        "> **Note:** This aquiz will be graded on **UNCode** **[https://uncode.unal.edu.co/](https://uncode.unal.edu.co/)** ([doumentation](https://juezun.github.io/)). In each exercise is indicated where you should write your code. Complete the code, download the file submit it in **UNCode**."
      ]
    },
    {
      "cell_type": "code",
      "metadata": {
        "id": "875DsJCur8zB",
        "colab": {
          "base_uri": "https://localhost:8080/"
        },
        "outputId": "904a48dd-3ac5-4751-fdd9-f0f0fc6d0c5c"
      },
      "source": [
        "!python --version\n",
        "import numpy as np\n",
        "\n",
        "print('NumPy', np.__version__)"
      ],
      "execution_count": 59,
      "outputs": [
        {
          "output_type": "stream",
          "name": "stdout",
          "text": [
            "Python 3.8.10\n",
            "NumPy 1.22.4\n"
          ]
        }
      ]
    },
    {
      "cell_type": "markdown",
      "metadata": {
        "id": "Xyl5fF0zr9r4"
      },
      "source": [
        "This quiz was created originaly in:\n",
        "\n",
        "- Python 3.6.9\n",
        "\n",
        "- NumPy: 1.19.5"
      ]
    },
    {
      "cell_type": "markdown",
      "source": [
        "## **1. *FizzBuzz*  - Python**"
      ],
      "metadata": {
        "id": "rN2shbVJV7-S"
      }
    },
    {
      "cell_type": "markdown",
      "source": [
        "Image modfied form https://code.kx.com/q/learn/reading/fizzbuzz/"
      ],
      "metadata": {
        "id": "M1700pF9EkJP"
      }
    },
    {
      "cell_type": "markdown",
      "metadata": {
        "id": "aq3HM6YEMIxM"
      },
      "source": [
        "---\n",
        "*FizzBuzz* is a popular computer programming exercise based on the concept of divisibility of integers. \n",
        "\n",
        ">An integer $x$ is divisible by $m$ when $x$ is a multiple of $m$. That is, when the remainder of dividing $x$ by $m$ is $0$.\n",
        "\n",
        "A way to verify that $x$ is divisible by $m$  to check if the module (remaimder of the integer divison) is equal to $0$, in Pyhton is:\n",
        "\n",
        "```python\n",
        "x % m == 0 # % module (remaimder of the integer divison)\n",
        "```"
      ]
    },
    {
      "cell_type": "markdown",
      "source": [
        "---\n",
        "\n",
        "###**Problem Description**\n",
        "\n",
        "**Task:** Given an integer $x$ return:\n",
        " \n",
        "\n",
        "*   The string \"**`Fizz!`**\" if $x$ is divisible by $3$ and not  divisible by $5$.\n",
        "*    The string \"**`Buzz!`**\" if $x$ is divisible by $5$ and not  divisible by $3$.\n",
        "*    The string \"**`FizzBuzz!`**\" if $x$ is divisible by both $5$ and divisible by $3$.\n",
        "*    The string \"**`...`**\" otherwise.\n",
        "\n",
        "**Input Format:** The input consists of a single integer $x$. \n",
        "\n",
        "**Constraints:** $x$ is an integer\n",
        "\n",
        "**Output Format:**  the output is a string."
      ],
      "metadata": {
        "id": "l8vwLDS8OMdp"
      }
    },
    {
      "cell_type": "markdown",
      "source": [
        "**Sample testcases**\n",
        "\n",
        "```python\n",
        "#run this sample testcases to help you validate your solution\n",
        "\n",
        "FizzBuzz(3)\n",
        "\n",
        "#  --> Expected output: Fizz!\n",
        "\n",
        "FizzBuzz(11)\n",
        "\n",
        "#  --> Expected output: ...\n",
        "\n",
        "FizzBuzz(5)\n",
        "#  --> Expected output: Buzz!\n",
        "\n",
        "FizzBuzz(7)\n",
        "#  --> Expected output:...\n",
        "\n",
        "FizzBuzz(15)\n",
        "#  --> Expected output: FizzBuzz!\n",
        "```\n",
        "\n",
        "---"
      ],
      "metadata": {
        "id": "seLwJoVTPqMb"
      }
    },
    {
      "cell_type": "markdown",
      "source": [
        "**Solution**"
      ],
      "metadata": {
        "id": "BX8ejJrpQdgb"
      }
    },
    {
      "cell_type": "code",
      "source": [
        "#Do not change this function's name, parameters or output format. It will be used in automatic grading.\n",
        "answer = \" \" \n",
        "def FizzBuzz(x):\n",
        "  if (x % 3==0) and not (x % 5 == 0):\n",
        "    return \"Fizz!\"\n",
        "  elif (x % 5==0) and not (x % 3==0):\n",
        "      return \"Buzz!\"\n",
        "  elif (x % 3==0) and (x % 5==0):\n",
        "        return \"FizzBuzz!\"\n",
        "  else: \n",
        "          return \"...\"\n"
      ],
      "metadata": {
        "id": "4kkesp9PQisR"
      },
      "execution_count": 60,
      "outputs": []
    },
    {
      "cell_type": "markdown",
      "metadata": {
        "id": "BA-nbOmnPYl6"
      },
      "source": [
        "<details>    \n",
        "<summary>\n",
        "    <font size=\"3\" color=\"darkgreen\"><b>Verification cases </b></font>\n",
        "</summary>\n"
      ]
    },
    {
      "cell_type": "code",
      "metadata": {
        "id": "xicbXt1uYDDt",
        "colab": {
          "base_uri": "https://localhost:8080/"
        },
        "outputId": "ff1e28ef-d48e-44f7-cbcf-4b9f47869f10"
      },
      "source": [
        "print(FizzBuzz(3))\n",
        "print(FizzBuzz(7))\n",
        "print(FizzBuzz(5))\n",
        "print(FizzBuzz(11))\n",
        "print(FizzBuzz(15))"
      ],
      "execution_count": 61,
      "outputs": [
        {
          "output_type": "stream",
          "name": "stdout",
          "text": [
            "Fizz!\n",
            "...\n",
            "Buzz!\n",
            "...\n",
            "FizzBuzz!\n"
          ]
        }
      ]
    },
    {
      "cell_type": "markdown",
      "metadata": {
        "id": "gS8eqbf4X2Am"
      },
      "source": [
        "Expected output:\n",
        "``` \n",
        "Fizz!\n",
        "...\n",
        "Buzz!\n",
        "...\n",
        "FizzBuzz!\n",
        "```"
      ]
    },
    {
      "cell_type": "markdown",
      "metadata": {
        "id": "HwSDMxzDMWMF"
      },
      "source": [
        "## **2. *FizzBuzzList*  - Python**\n",
        "---\n",
        "\n",
        "Write the function *FizzBuzzList* that returns a list with the answers of *FizzBuzz* for the integer numbers $1$ to $n$ (including $n$)."
      ]
    },
    {
      "cell_type": "markdown",
      "source": [
        "---\n",
        "\n",
        "###**Problem Description**\n",
        "\n",
        "**Task:** Given an integer $n$ return the list with the *FizzBuzz* answers for the integer numbers $1$ to $n$ (including $n$).\n",
        "  \n",
        "\n",
        "**Input Format:** The input consists of a single integer $n$. \n",
        "\n",
        "**Constraints:** $n$ is an integer\n",
        "\n",
        "**Output Format:**  list with the *FizzBuzz* answers, if the input is not positive return an empty list."
      ],
      "metadata": {
        "id": "KCPEZwq6XZcC"
      }
    },
    {
      "cell_type": "markdown",
      "source": [
        "**Sample testcases**\n",
        "\n",
        "```python\n",
        "#run this sample testcases to help you validate your solution\n",
        "\n",
        "FizzBuzzList(4)\n",
        "#  --> Expected output: ['...', '...', 'Fizz!', '...']\n",
        " \n",
        "FizzBuzzList(-1)\n",
        "#  --> Expected output: []\n",
        "```\n",
        "---"
      ],
      "metadata": {
        "id": "MbjrKp6ZYOUq"
      }
    },
    {
      "cell_type": "markdown",
      "source": [
        "**Solution**"
      ],
      "metadata": {
        "id": "O-OLGB5BZIQq"
      }
    },
    {
      "cell_type": "code",
      "source": [
        "#Do not change this function's name, parameters or output format. It will be used in automatic grading.\n",
        "def FizzBuzzList(n):\n",
        "    ans = []\n",
        "    for i in range(n):\n",
        "      ans.append(FizzBuzz(i+1))\n",
        "    return ans"
      ],
      "metadata": {
        "id": "dIYchJvEZMEJ"
      },
      "execution_count": 62,
      "outputs": []
    },
    {
      "cell_type": "markdown",
      "source": [
        "<details>    \n",
        "<summary>\n",
        "    <font size=\"3\" color=\"darkgreen\"><b>Verification cases </b></font>\n",
        "</summary>"
      ],
      "metadata": {
        "id": "P0-XPf1xZokq"
      }
    },
    {
      "cell_type": "code",
      "source": [
        "print(FizzBuzzList(5))\n",
        "print(FizzBuzzList(-30))"
      ],
      "metadata": {
        "id": "4EXUbJmJZxPq",
        "colab": {
          "base_uri": "https://localhost:8080/"
        },
        "outputId": "f3316aab-2c31-4903-8ea8-59f1e29d8ac0"
      },
      "execution_count": 63,
      "outputs": [
        {
          "output_type": "stream",
          "name": "stdout",
          "text": [
            "['...', '...', 'Fizz!', '...', 'Buzz!']\n",
            "[]\n"
          ]
        }
      ]
    },
    {
      "cell_type": "markdown",
      "source": [
        "Expected output:\n",
        "``` \n",
        "['...', '...', 'Fizz!', '...', 'Buzz!']\n",
        "[]\n",
        "```"
      ],
      "metadata": {
        "id": "rybnp7wcZu_K"
      }
    },
    {
      "cell_type": "markdown",
      "source": [
        "## **3. *Standarize* - z scores - NumPy**"
      ],
      "metadata": {
        "id": "6Yepp3PEoPjA"
      }
    },
    {
      "cell_type": "markdown",
      "source": [
        "<img src = \"https://upload.wikimedia.org/wikipedia/commons/thumb/2/25/The_Normal_Distribution.svg/1600px-The_Normal_Distribution.svg.png\" alt = \"z-scores\" width = \"70%\">  </img>"
      ],
      "metadata": {
        "id": "61RGUFXToGOY"
      }
    },
    {
      "cell_type": "markdown",
      "source": [
        "\n",
        "---\n",
        "### Normalization (Statistics)\n",
        "In statistics and applications of statistics, normalization can have a range of meanings. In the simplest cases, normalization of ratings means adjusting values measured on different scales to a notionally common scale, often prior to averaging. In more complicated cases, normalization may refer to more sophisticated adjustments where the intention is to bring the entire probability distributions of adjusted values into alignment. In the case of normalization of scores in educational assessment, there may be an intention to align distributions to a normal distribution ([wikipedia](https://en.wikipedia.org/wiki/Normalization_(statistics))).\n",
        "\n",
        "### Standard score\n",
        "In statistics, the standard score is the number of standard deviations by which the value of a raw score (i.e., an observed value or data point) is above or below the mean value of what is being observed or measured([wikipedia](https://en.wikipedia.org/wiki/Standard_score)).\n",
        "\n",
        "Given a set of values $X=\\{x_1,x_2,\\cdots,x_n\\}$  the corresponding standard scores $z_i$ are defined as \n",
        "$$z_i = \\frac{x_i - \\mu_X}{\\sigma_X}$$\n",
        "where:\n",
        "\n",
        "  - $\\mu_X$ is the mean of the values $X=\\{x_1,x_2,\\cdots,x_n\\}$,\n",
        "  -$\\sigma_X$ is the of the values $X=\\{x_1,x_2,\\cdots,x_n\\}$.\n"
      ],
      "metadata": {
        "id": "XZN9NSI4eAOi"
      }
    },
    {
      "cell_type": "markdown",
      "source": [
        "**IMPORTANT:** Solve this exercise using the ***`NumPy`*** functions ***`mean`*** and ***`std`*** not using prograrmming structures like ***`if`*** or ***`for`***."
      ],
      "metadata": {
        "id": "W8J-661cl5-Z"
      }
    },
    {
      "cell_type": "code",
      "source": [
        "import numpy as np\n",
        "\n",
        "X = np.array([1.2,3.2,4.3,5.6])\n",
        "print(X.mean())\n",
        "print(X.std())"
      ],
      "metadata": {
        "colab": {
          "base_uri": "https://localhost:8080/"
        },
        "id": "PZnHitR4lrMh",
        "outputId": "d723ea26-02a2-417e-8439-92d14c776685"
      },
      "execution_count": 64,
      "outputs": [
        {
          "output_type": "stream",
          "name": "stdout",
          "text": [
            "3.5749999999999997\n",
            "1.6130328576938535\n"
          ]
        }
      ]
    },
    {
      "cell_type": "markdown",
      "source": [
        "---\n",
        "\n",
        "###**Problem Description**\n",
        "\n",
        "**Task:** Given an numpy array $X$ return the corresponding standard scores.\n",
        "  \n",
        "**Input Format:** The input consists of a numpy array $X$. \n",
        "\n",
        "**Output Format:**  A numpy array with standard scores corresponding to $X$."
      ],
      "metadata": {
        "id": "XT89Dri7gIJ4"
      }
    },
    {
      "cell_type": "markdown",
      "source": [
        "**Sample testcases**\n",
        "\n",
        "```python\n",
        "#run this sample testcases to help you validate your solution\n",
        "\n",
        "X0 = np.array([4.8, 4.0, 4.2, 4.0, 5.0])\n",
        "standarize(X0)\n",
        "\n",
        "#  --> Expected output: array([ 0.95346259, -0.95346259, -0.47673129, -0.95346259,  1.43019388])\n",
        "\n",
        "X1 = np.arange(5)\n",
        "standarize(X1)\n",
        "\n",
        "#  --> Expected output: array([-1.41421356, -0.70710678,  0.        ,  0.70710678,  1.41421356])\n",
        "\n",
        "```\n",
        "---"
      ],
      "metadata": {
        "id": "6N0JF_0-m_AB"
      }
    },
    {
      "cell_type": "markdown",
      "source": [
        "**Solution**"
      ],
      "metadata": {
        "id": "frfaDDj0k7tJ"
      }
    },
    {
      "cell_type": "code",
      "source": [
        "#Do not change this function's name, parameters or output format. It will be used in automatic grading.\n",
        "\n",
        "import numpy as np\n",
        "\n",
        "def standarize(X):\n",
        "  X_standarized = (X-X.mean())/X.std() # only one line of code\n",
        "  return X_standarized"
      ],
      "metadata": {
        "id": "vUf0_xqXgHSj"
      },
      "execution_count": 65,
      "outputs": []
    },
    {
      "cell_type": "markdown",
      "source": [
        "## **4. *Main diagonal matrix*  - NumPy**"
      ],
      "metadata": {
        "id": "4GU-LwecnqCR"
      }
    },
    {
      "cell_type": "markdown",
      "source": [
        "![](https://miro.medium.com/max/866/1*mdTwXCRW1vhjoKH-4kATww.png)"
      ],
      "metadata": {
        "id": "QOnUubH3plWA"
      }
    },
    {
      "cell_type": "markdown",
      "source": [
        "\n",
        "In this exercise you will implement the function **`main_diagonal_matrix`**, which takes a matrix (a $2$ dimensional  *NumPy*array) of size $n \\times m$ and generates a diagonal matrix with the elements on its **main diagonal**.\n",
        "\n",
        "### Main diagonal\n",
        "\n",
        "> In linear algebra, the main diagonal (sometimes principal diagonal, primary diagonal, leading diagonal, major diagonal, or good diagonal) of a matrix $A$ is the list of entries $a_{i,j}$ where $ i=j$. All off-diagonal elements are zero in a diagonal matrix. The following three matrices have their main diagonals indicated by red ones:\n",
        "![image.png](data:image/png;base64,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)\n",
        "[wikipedia](https://en.wikipedia.org/wiki/Main_diagonal)\n",
        "\n",
        "\n"
      ],
      "metadata": {
        "id": "HcUPetTWpoDo"
      }
    },
    {
      "cell_type": "code",
      "source": [
        "#t = [array([], dtype=float64), array([nan]), array([-1.,  1.]), array([-1.22474487,  0.        ,  1.22474487]), array([-1.34164079, -0.4472136 ,  0.4472136 ,  1.34164079]), array([-1.41421356, -0.70710678,  0.        ,  0.70710678,  1.41421356]), array([-1.46385011, -0.87831007, -0.29277002,  0.29277002,  0.87831007,\n",
        "  #      1.46385011]), array([-1.5, -1. , -0.5,  0. ,  0.5,  1. ,  1.5]), array([-1.52752523, -1.09108945, -0.65465367, -0.21821789,  0.21821789,\n",
        "   #     0.65465367,  1.09108945,  1.52752523]), array([-1.54919334, -1.161895  , -0.77459667, -0.38729833,  0.        ,\n",
        "    #    0.38729833,  0.77459667,  1.161895  ,  1.54919334])]"
      ],
      "metadata": {
        "id": "C9N6KoIhlA6M"
      },
      "execution_count": 66,
      "outputs": []
    },
    {
      "cell_type": "markdown",
      "source": [
        "Examples:\n",
        "\n",
        "* **$n$ = $m$**\n",
        "$$\\begin{bmatrix}\n",
        "1 & 0 & 2\\\\ \n",
        "9 & 2 & 6 \\\\ \n",
        "6 & 4 & 3 \n",
        "\\end{bmatrix} \\rightarrow\n",
        "\\begin{bmatrix}\n",
        "\\mathbf{1} & 0 & 0 \\\\ \n",
        "0 & \\mathbf{2 }& 0 \\\\ \n",
        "0 & 0 & \\boldsymbol{\\mathbf{}3 }\n",
        "\\end{bmatrix}$$\n",
        "\n",
        "* **$n$ < $m$**\n",
        "$$\\begin{bmatrix}\n",
        "1 & 0 & 2 & 9 & 2\\\\ \n",
        "9 & 2 & 6 & 5 & 7\\\\ \n",
        "6 & 4 & 3 & 4 & 7\n",
        "\\end{bmatrix} \\rightarrow\n",
        "\\begin{bmatrix}\n",
        "\\mathbf{1} & 0 & 0 \\\\ \n",
        "0 & \\mathbf{2 }& 0 \\\\ \n",
        "0 & 0 & \\boldsymbol{\\mathbf{}3 }\n",
        "\\end{bmatrix}$$\n",
        "\n",
        "* **$n$ > $m$**\n",
        "$$\\begin{bmatrix}\n",
        "1 & 0 & 2\\\\ \n",
        "9 & 2 & 6 \\\\ \n",
        "6 & 4 & 3 \\\\ \n",
        "1 & 0 & 5\n",
        "\\end{bmatrix} \\rightarrow\n",
        "\\begin{bmatrix}\n",
        "\\mathbf{1} & 0 & 0 \\\\ \n",
        "0 & \\mathbf{2 }& 0 \\\\ \n",
        "0 & 0 & \\boldsymbol{\\mathbf{}3 }\n",
        "\\end{bmatrix}$$\n"
      ],
      "metadata": {
        "id": "-_64gk01tykQ"
      }
    },
    {
      "cell_type": "markdown",
      "source": [
        "**IMPORTANT:** Solve this exercise using the ***`NumPy`*** function ***`diag`***  and ***`astype`*** not using prograrmming structures like ***`if`*** or ***`for`***."
      ],
      "metadata": {
        "id": "AbqTfmPMuir4"
      }
    },
    {
      "cell_type": "code",
      "source": [
        "import numpy as np\n",
        "A = np.array([\n",
        "    [1, 0, 2, 9, 2],\n",
        "    [9, 2, 6, 5, 7],\n",
        "    [6, 4, 3, 4, 7]\n",
        "    \n",
        "])\n",
        "\n",
        "print(A.astype(float))\n",
        "\n",
        "print(np.diag(A))\n",
        "\n",
        "print(np.diag(np.diag(A)))"
      ],
      "metadata": {
        "colab": {
          "base_uri": "https://localhost:8080/"
        },
        "id": "H8jtLvpMuvep",
        "outputId": "e2ca9dbf-a8a2-40f5-bdc4-93e6ba80d1a8"
      },
      "execution_count": 67,
      "outputs": [
        {
          "output_type": "stream",
          "name": "stdout",
          "text": [
            "[[1. 0. 2. 9. 2.]\n",
            " [9. 2. 6. 5. 7.]\n",
            " [6. 4. 3. 4. 7.]]\n",
            "[1 2 3]\n",
            "[[1 0 0]\n",
            " [0 2 0]\n",
            " [0 0 3]]\n"
          ]
        }
      ]
    },
    {
      "cell_type": "markdown",
      "source": [
        "---\n",
        "\n",
        "###**Problem Description**\n",
        "\n",
        "**Task:** Given a numpy matrix $A$ (2-D array) return the diagonal matrix with the elements of its main diagonal.\n",
        " \n",
        "\n",
        "**Input Format:** The input consists of a numpy matrix $A$ (2-D array).\n",
        "\n",
        "**Output Format:**  The diagonal matrix with the elemnts of its main diagonal."
      ],
      "metadata": {
        "id": "9GfUMP5vsawZ"
      }
    },
    {
      "cell_type": "markdown",
      "source": [
        "**Sample testcases**\n",
        "\n",
        "```python\n",
        "#run this sample testcases to help you validate your solution\n",
        "\n",
        "A = np.array([\n",
        "    [1, 0, 2, 9, 2],\n",
        "    [9, 2, 6, 5, 7],\n",
        "    [6, 4, 3, 4, 7]\n",
        "    \n",
        "])\n",
        "main_diagonal_matrix(A)\n",
        "#  --> Expected output: \n",
        "array([[1., 0., 0.],\n",
        "       [0., 2., 0.],\n",
        "       [0., 0., 3.]])\n",
        "\n",
        "A = np.array([\n",
        "    [4, 0, 2],\n",
        "    [9, 5, 6],\n",
        "    [1, 9, 6],\n",
        "    [3, 0, 5]\n",
        "    \n",
        "])\n",
        "main_diagonal_matrix(A)\n",
        "#  --> Expected output: \n",
        "array([[4., 0., 0.],\n",
        "       [0., 5., 0.],\n",
        "       [0., 0., 6.]])\n",
        "```\n",
        "---"
      ],
      "metadata": {
        "id": "nG7hzC4JtrvZ"
      }
    },
    {
      "cell_type": "code",
      "source": [
        "#Do not change this function's name, parameters or output format. It will be used in automatic grading.\n",
        "\n",
        "import numpy as np\n",
        "\n",
        "def main_diagonal_matrix(A):\n",
        "  D = np.diag(np.diag(A)).astype(float) # only one line of code\n",
        "  return D"
      ],
      "metadata": {
        "id": "thogtwflo6-x"
      },
      "execution_count": 68,
      "outputs": []
    },
    {
      "cell_type": "markdown",
      "metadata": {
        "id": "4Igf_jPe3yBd"
      },
      "source": [
        "**¡Congratulations!** You have finished your first quiz.\n",
        "\n"
      ]
    },
    {
      "cell_type": "markdown",
      "metadata": {
        "id": "QETcLEiG3yBs"
      },
      "source": [
        "## **Credits**\n",
        "Created by \n",
        "  - German Hernandez\n",
        "  - Oscar Fabian Sierra Daza\n",
        "  \n",
        "Modifying quizzes originaly created by\n",
        "  - Felipe Restrepo Calle\n",
        "  - Alberto Nicolai Romero Martínez\n",
        "  - Miguel Angel Ortiz Marín\n"
      ]
    }
  ]
}