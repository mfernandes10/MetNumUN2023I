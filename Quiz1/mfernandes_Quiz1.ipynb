{
  "nbformat": 4,
  "nbformat_minor": 0,
  "metadata": {
    "colab": {
      "provenance": [],
      "include_colab_link": true
    },
    "kernelspec": {
      "name": "python3",
      "display_name": "Python 3"
    }
  },
  "cells": [
    {
      "cell_type": "markdown",
      "metadata": {
        "id": "view-in-github",
        "colab_type": "text"
      },
      "source": [
        "<a href=\"https://colab.research.google.com/github/mfernandes10/MetNumUN2023I/blob/main/Quiz1/mfernandes_Quiz1.ipynb\" target=\"_parent\"><img src=\"https://colab.research.google.com/assets/colab-badge.svg\" alt=\"Open In Colab\"/></a>"
      ]
    },
    {
      "cell_type": "code",
      "metadata": {
        "id": "875DsJCur8zB",
        "colab": {
          "base_uri": "https://localhost:8080/"
        },
        "outputId": "904a48dd-3ac5-4751-fdd9-f0f0fc6d0c5c"
      },
      "source": [
        "!python --version\n",
        "import numpy as np\n",
        "\n",
        "print('NumPy', np.__version__)"
      ],
      "execution_count": 59,
      "outputs": [
        {
          "output_type": "stream",
          "name": "stdout",
          "text": [
            "Python 3.8.10\n",
            "NumPy 1.22.4\n"
          ]
        }
      ]
    },
    {
      "cell_type": "markdown",
      "source": [
        "## **1. *FizzBuzz*  - Python**"
      ],
      "metadata": {
        "id": "rN2shbVJV7-S"
      }
    },
    {
      "cell_type": "markdown",
      "source": [
        "---\n",
        "\n",
        "###**Problem Description**\n",
        "\n",
        "**Task:** Given an integer $x$ return:\n",
        " \n",
        "\n",
        "*   The string \"**`Fizz!`**\" if $x$ is divisible by $3$ and not  divisible by $5$.\n",
        "*    The string \"**`Buzz!`**\" if $x$ is divisible by $5$ and not  divisible by $3$.\n",
        "*    The string \"**`FizzBuzz!`**\" if $x$ is divisible by both $5$ and divisible by $3$.\n",
        "*    The string \"**`...`**\" otherwise.\n",
        "\n",
        "**Input Format:** The input consists of a single integer $x$. \n",
        "\n",
        "**Constraints:** $x$ is an integer\n",
        "\n",
        "**Output Format:**  the output is a string."
      ],
      "metadata": {
        "id": "l8vwLDS8OMdp"
      }
    },
    {
      "cell_type": "markdown",
      "source": [
        "**Solution**"
      ],
      "metadata": {
        "id": "BX8ejJrpQdgb"
      }
    },
    {
      "cell_type": "code",
      "source": [
        "#Do not change this function's name, parameters or output format. It will be used in automatic grading.\n",
        "answer = \" \" \n",
        "def FizzBuzz(x):\n",
        "  if (x % 3==0) and not (x % 5 == 0):\n",
        "    return \"Fizz!\"\n",
        "  elif (x % 5==0) and not (x % 3==0):\n",
        "      return \"Buzz!\"\n",
        "  elif (x % 3==0) and (x % 5==0):\n",
        "        return \"FizzBuzz!\"\n",
        "  else: \n",
        "          return \"...\"\n"
      ],
      "metadata": {
        "id": "4kkesp9PQisR"
      },
      "execution_count": 60,
      "outputs": []
    },
    {
      "cell_type": "markdown",
      "metadata": {
        "id": "BA-nbOmnPYl6"
      },
      "source": [
        "<details>    \n",
        "<summary>\n",
        "    <font size=\"3\" color=\"darkgreen\"><b>Verification cases </b></font>\n",
        "</summary>\n"
      ]
    },
    {
      "cell_type": "code",
      "metadata": {
        "id": "xicbXt1uYDDt",
        "colab": {
          "base_uri": "https://localhost:8080/"
        },
        "outputId": "ff1e28ef-d48e-44f7-cbcf-4b9f47869f10"
      },
      "source": [
        "print(FizzBuzz(3))\n",
        "print(FizzBuzz(7))\n",
        "print(FizzBuzz(5))\n",
        "print(FizzBuzz(11))\n",
        "print(FizzBuzz(15))"
      ],
      "execution_count": 61,
      "outputs": [
        {
          "output_type": "stream",
          "name": "stdout",
          "text": [
            "Fizz!\n",
            "...\n",
            "Buzz!\n",
            "...\n",
            "FizzBuzz!\n"
          ]
        }
      ]
    },
    {
      "cell_type": "markdown",
      "metadata": {
        "id": "gS8eqbf4X2Am"
      },
      "source": [
        "Expected output:\n",
        "``` \n",
        "Fizz!\n",
        "...\n",
        "Buzz!\n",
        "...\n",
        "FizzBuzz!\n",
        "```"
      ]
    },
    {
      "cell_type": "markdown",
      "metadata": {
        "id": "HwSDMxzDMWMF"
      },
      "source": [
        "## **2. *FizzBuzzList*  - Python**\n",
        "---\n",
        "\n",
        "Write the function *FizzBuzzList* that returns a list with the answers of *FizzBuzz* for the integer numbers $1$ to $n$ (including $n$)."
      ]
    },
    {
      "cell_type": "markdown",
      "source": [
        "---\n",
        "\n",
        "###**Problem Description**\n",
        "\n",
        "**Task:** Given an integer $n$ return the list with the *FizzBuzz* answers for the integer numbers $1$ to $n$ (including $n$).\n",
        "  \n",
        "\n",
        "**Input Format:** The input consists of a single integer $n$. \n",
        "\n",
        "**Constraints:** $n$ is an integer\n",
        "\n",
        "**Output Format:**  list with the *FizzBuzz* answers, if the input is not positive return an empty list."
      ],
      "metadata": {
        "id": "KCPEZwq6XZcC"
      }
    },
    {
      "cell_type": "markdown",
      "source": [
        "**Solution**"
      ],
      "metadata": {
        "id": "O-OLGB5BZIQq"
      }
    },
    {
      "cell_type": "code",
      "source": [
        "#Do not change this function's name, parameters or output format. It will be used in automatic grading.\n",
        "def FizzBuzzList(n):\n",
        "    ans = []\n",
        "    for i in range(n):\n",
        "      ans.append(FizzBuzz(i+1))\n",
        "    return ans"
      ],
      "metadata": {
        "id": "dIYchJvEZMEJ"
      },
      "execution_count": 62,
      "outputs": []
    },
    {
      "cell_type": "markdown",
      "source": [
        "<details>    \n",
        "<summary>\n",
        "    <font size=\"3\" color=\"darkgreen\"><b>Verification cases </b></font>\n",
        "</summary>"
      ],
      "metadata": {
        "id": "P0-XPf1xZokq"
      }
    },
    {
      "cell_type": "code",
      "source": [
        "print(FizzBuzzList(5))\n",
        "print(FizzBuzzList(-30))"
      ],
      "metadata": {
        "id": "4EXUbJmJZxPq",
        "colab": {
          "base_uri": "https://localhost:8080/"
        },
        "outputId": "f3316aab-2c31-4903-8ea8-59f1e29d8ac0"
      },
      "execution_count": 63,
      "outputs": [
        {
          "output_type": "stream",
          "name": "stdout",
          "text": [
            "['...', '...', 'Fizz!', '...', 'Buzz!']\n",
            "[]\n"
          ]
        }
      ]
    },
    {
      "cell_type": "markdown",
      "source": [
        "Expected output:\n",
        "``` \n",
        "['...', '...', 'Fizz!', '...', 'Buzz!']\n",
        "[]\n",
        "```"
      ],
      "metadata": {
        "id": "rybnp7wcZu_K"
      }
    },
    {
      "cell_type": "markdown",
      "source": [
        "## **3. *Standarize* - z scores - NumPy**"
      ],
      "metadata": {
        "id": "6Yepp3PEoPjA"
      }
    },
    {
      "cell_type": "markdown",
      "source": [
        "**IMPORTANT:** Solve this exercise using the ***`NumPy`*** functions ***`mean`*** and ***`std`*** not using prograrmming structures like ***`if`*** or ***`for`***."
      ],
      "metadata": {
        "id": "W8J-661cl5-Z"
      }
    },
    {
      "cell_type": "code",
      "source": [
        "import numpy as np\n",
        "\n",
        "X = np.array([1.2,3.2,4.3,5.6])\n",
        "print(X.mean())\n",
        "print(X.std())"
      ],
      "metadata": {
        "colab": {
          "base_uri": "https://localhost:8080/"
        },
        "id": "PZnHitR4lrMh",
        "outputId": "d723ea26-02a2-417e-8439-92d14c776685"
      },
      "execution_count": 64,
      "outputs": [
        {
          "output_type": "stream",
          "name": "stdout",
          "text": [
            "3.5749999999999997\n",
            "1.6130328576938535\n"
          ]
        }
      ]
    },
    {
      "cell_type": "markdown",
      "source": [
        "---\n",
        "\n",
        "###**Problem Description**\n",
        "\n",
        "**Task:** Given an numpy array $X$ return the corresponding standard scores.\n",
        "  \n",
        "**Input Format:** The input consists of a numpy array $X$. \n",
        "\n",
        "**Output Format:**  A numpy array with standard scores corresponding to $X$."
      ],
      "metadata": {
        "id": "XT89Dri7gIJ4"
      }
    },
    {
      "cell_type": "markdown",
      "source": [
        "**Solution**"
      ],
      "metadata": {
        "id": "frfaDDj0k7tJ"
      }
    },
    {
      "cell_type": "code",
      "source": [
        "#Do not change this function's name, parameters or output format. It will be used in automatic grading.\n",
        "\n",
        "import numpy as np\n",
        "\n",
        "def standarize(X):\n",
        "  X_standarized = (X-X.mean())/X.std() # only one line of code\n",
        "  return X_standarized"
      ],
      "metadata": {
        "id": "vUf0_xqXgHSj"
      },
      "execution_count": 65,
      "outputs": []
    },
    {
      "cell_type": "markdown",
      "source": [
        "## **4. *Main diagonal matrix*  - NumPy**"
      ],
      "metadata": {
        "id": "4GU-LwecnqCR"
      }
    },
    {
      "cell_type": "code",
      "source": [
        "#t = [array([], dtype=float64), array([nan]), array([-1.,  1.]), array([-1.22474487,  0.        ,  1.22474487]), array([-1.34164079, -0.4472136 ,  0.4472136 ,  1.34164079]), array([-1.41421356, -0.70710678,  0.        ,  0.70710678,  1.41421356]), array([-1.46385011, -0.87831007, -0.29277002,  0.29277002,  0.87831007,\n",
        "  #      1.46385011]), array([-1.5, -1. , -0.5,  0. ,  0.5,  1. ,  1.5]), array([-1.52752523, -1.09108945, -0.65465367, -0.21821789,  0.21821789,\n",
        "   #     0.65465367,  1.09108945,  1.52752523]), array([-1.54919334, -1.161895  , -0.77459667, -0.38729833,  0.        ,\n",
        "    #    0.38729833,  0.77459667,  1.161895  ,  1.54919334])]"
      ],
      "metadata": {
        "id": "C9N6KoIhlA6M"
      },
      "execution_count": 66,
      "outputs": []
    },
    {
      "cell_type": "markdown",
      "source": [
        "**IMPORTANT:** Solve this exercise using the ***`NumPy`*** function ***`diag`***  and ***`astype`*** not using prograrmming structures like ***`if`*** or ***`for`***."
      ],
      "metadata": {
        "id": "AbqTfmPMuir4"
      }
    },
    {
      "cell_type": "code",
      "source": [
        "import numpy as np\n",
        "A = np.array([\n",
        "    [1, 0, 2, 9, 2],\n",
        "    [9, 2, 6, 5, 7],\n",
        "    [6, 4, 3, 4, 7]\n",
        "    \n",
        "])\n",
        "\n",
        "print(A.astype(float))\n",
        "\n",
        "print(np.diag(A))\n",
        "\n",
        "print(np.diag(np.diag(A)))"
      ],
      "metadata": {
        "colab": {
          "base_uri": "https://localhost:8080/"
        },
        "id": "H8jtLvpMuvep",
        "outputId": "e2ca9dbf-a8a2-40f5-bdc4-93e6ba80d1a8"
      },
      "execution_count": 67,
      "outputs": [
        {
          "output_type": "stream",
          "name": "stdout",
          "text": [
            "[[1. 0. 2. 9. 2.]\n",
            " [9. 2. 6. 5. 7.]\n",
            " [6. 4. 3. 4. 7.]]\n",
            "[1 2 3]\n",
            "[[1 0 0]\n",
            " [0 2 0]\n",
            " [0 0 3]]\n"
          ]
        }
      ]
    },
    {
      "cell_type": "markdown",
      "source": [
        "---\n",
        "\n",
        "###**Problem Description**\n",
        "\n",
        "**Task:** Given a numpy matrix $A$ (2-D array) return the diagonal matrix with the elements of its main diagonal.\n",
        " \n",
        "\n",
        "**Input Format:** The input consists of a numpy matrix $A$ (2-D array).\n",
        "\n",
        "**Output Format:**  The diagonal matrix with the elemnts of its main diagonal."
      ],
      "metadata": {
        "id": "9GfUMP5vsawZ"
      }
    },
    {
      "cell_type": "code",
      "source": [
        "#Do not change this function's name, parameters or output format. It will be used in automatic grading.\n",
        "\n",
        "import numpy as np\n",
        "\n",
        "def main_diagonal_matrix(A):\n",
        "  D = np.diag(np.diag(A)).astype(float) # only one line of code\n",
        "  return D"
      ],
      "metadata": {
        "id": "thogtwflo6-x"
      },
      "execution_count": 68,
      "outputs": []
    }
  ]
}