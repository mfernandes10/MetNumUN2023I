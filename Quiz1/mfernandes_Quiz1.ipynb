#Do not change this function's name, parameters or output format. It will be used in automatic grading.
answer = " " 
def FizzBuzz(x):
  if (x % 3==0) and not (x % 5 == 0):
    return "Fizz!"
  elif (x % 5==0) and not (x % 3==0):
      return "Buzz!"
  elif (x % 3==0) and (x % 5==0):
        return "FizzBuzz!"
  else: 
          return "..."
#Do not change this function's name, parameters or output format. It will be used in automatic grading.
def FizzBuzzList(n):
    ans = []
    for i in range(n):
      ans.append(FizzBuzz(i+1))
    return ans
import numpy as np

X = np.array([1.2,3.2,4.3,5.6])
print(X.mean())
print(X.std())

#Do not change this function's name, parameters or output format. It will be used in automatic grading.

import numpy as np

def standarize(X):
  X_standarized = (X-X.mean())/X.std() # only one line of code
  return X_standarized
import numpy as np
A = np.array([
    [1, 0, 2, 9, 2],
    [9, 2, 6, 5, 7],
    [6, 4, 3, 4, 7]
    
])

print(A.astype(float))

print(np.diag(A))

print(np.diag(np.diag(A)))
# run this sample testcases to help you validate your solution

A = np.array([
    [1, 0, 2, 9, 2],
    [9, 2, 6, 5, 7],
    [6, 4, 3, 4, 7]

])
main_diagonal_matrix(A)
#  --> Expected output: 
array([[1., 0., 0.],
       [0., 2., 0.],
       [0., 0., 3.]])

A = np.array([
    [4, 0, 2],
    [9, 5, 6],
    [1, 9, 6],
    [3, 0, 5]

])
main_diagonal_matrix(A)
#  --> Expected output: 
array([[4., 0., 0.],
       [0., 5., 0.],
       [0., 0., 6.]])
#Do not change this function's name, parameters or output format. It will be used in automatic grading.

import numpy as np

def main_diagonal_matrix(A):
  D = np.diag(np.diag(A)).astype(float) # only one line of code
  return D
